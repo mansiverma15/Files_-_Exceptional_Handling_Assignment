{
  "nbformat": 4,
  "nbformat_minor": 0,
  "metadata": {
    "colab": {
      "provenance": []
    },
    "kernelspec": {
      "name": "python3",
      "display_name": "Python 3"
    },
    "language_info": {
      "name": "python"
    }
  },
  "cells": [
    {
      "cell_type": "markdown",
      "source": [
        "#Files & Exceptional Handling Assignment"
      ],
      "metadata": {
        "id": "UGbhE4VG91yn"
      }
    },
    {
      "cell_type": "markdown",
      "source": [
        "##Theoritical Questions"
      ],
      "metadata": {
        "id": "hhAQBOIE8t65"
      }
    },
    {
      "cell_type": "markdown",
      "source": [
        "1) What is the difference between interpreted and compiled languages?\n",
        "- Interpreted languages execute code line-by-line, making them more flexible but slower, while compiled languages convert code into machine code before execution, making them faster but requiring compilation beforehand. Python is an interpreted language, whereas C and Java are compiled.\n",
        "\n",
        "2) What is exception handling in Python?\n",
        "- Exception handling in Python allows programs to handle runtime errors using try, except, finally, and else blocks. It prevents crashes by catching errors like ZeroDivisionError, FileNotFoundError, and handling them gracefully.\n",
        "\n",
        "3) What is the purpose of the finally block in exception handling?\n",
        "- The finally block in Python is used to execute cleanup code, regardless of whether an exception occurs. It is commonly used for resource management, such as closing files or releasing network connections.\n",
        "\n",
        "4) What is logging in Python?\n",
        "- Logging in Python is a built-in module that allows tracking events in an application. It helps debug issues, monitor program execution, and store logs at different levels such as DEBUG, INFO, WARNING, ERROR, and CRITICAL.\n",
        "\n",
        "5) What is the significance of the __del__ method in Python?\n",
        "- The __del__ method is a destructor in Python that is automatically called when an object is deleted or goes out of scope. It is used for cleanup operations like closing files or releasing resources.\n",
        "\n",
        "6) What is the difference between import and from ... import in Python?\n",
        "- The import statement imports an entire module, requiring functions to be accessed with module.function(). The from ... import statement imports specific functions or variables, allowing direct access without the module name prefix.\n",
        "\n",
        "7) How can you handle multiple exceptions in Python?\n",
        "- Multiple exceptions in Python can be handled using multiple except blocks for different error types or by grouping exceptions in a single except block using a tuple (except (TypeError, ValueError):).\n",
        "\n",
        "8) What is the purpose of the with statement when handling files in Python?\n",
        "- The with statement ensures proper handling of file resources by automatically closing the file after the block execution. It eliminates the need for explicit close() calls and prevents resource leaks.\n",
        "\n",
        "9) What is the difference between multithreading and multiprocessing?\n",
        "- Multithreading allows multiple threads to run within a process, sharing memory but limited by the Global Interpreter Lock (GIL). Multiprocessing creates separate processes with independent memory spaces, making it better for CPU-intensive tasks.\n",
        "\n",
        "10) What are the advantages of using logging in a program?\n",
        "- Logging helps in debugging, monitoring, and maintaining records of program execution. It provides different log levels (DEBUG, INFO, WARNING, ERROR, CRITICAL) and allows logging to files or external systems for later analysis.\n",
        "\n",
        "11) What is memory management in Python?\n",
        "- Memory management in Python is handled automatically using dynamic allocation and garbage collection. Python uses reference counting and a cyclic garbage collector to free unused objects and optimize memory usage.\n",
        "\n",
        "12) What are the basic steps involved in exception handling in Python?\n",
        "- Exception handling involves wrapping the code in a try block, catching specific errors in except blocks, using else for code execution when no exceptions occur, and finally for cleanup operations.\n",
        "\n",
        "13) Why is memory management important in Python?\n",
        "- Efficient memory management prevents memory leaks, optimizes performance, and ensures smooth program execution. Python's garbage collector and dynamic memory allocation help manage memory automatically.\n",
        "\n",
        "14) What is the role of try and except in exception handling?\n",
        "- The try block contains code that might raise an exception, while the except block catches and handles specific errors to prevent crashes. This structure ensures error handling and program stability.\n",
        "\n",
        "15) How does Python's garbage collection system work?\n",
        "- Python's garbage collection uses reference counting and a cyclic garbage collector. When an object's reference count drops to zero, it is automatically deleted, freeing memory and preventing memory leaks.\n",
        "\n",
        "16) What is the purpose of the else block in exception handling?\n",
        "- The else block runs code only if no exceptions occur in the try block. It is useful for executing code that should only proceed if no errors were encountered.\n",
        "\n",
        "17) What are the common logging levels in Python?\n",
        "- Python provides five logging levels: DEBUG (detailed information), INFO (confirmation messages), WARNING (potential issues), ERROR (serious problems), and CRITICAL (severe errors).\n",
        "\n",
        "18) What is the difference between os.fork() and multiprocessing in Python?\n",
        "- os.fork() creates a child process by duplicating the parent process and is mainly used in Unix-based systems. The multiprocessing module provides a cross-platform approach for creating separate processes with independent memory.\n",
        "\n",
        "19) What is the importance of closing a file in Python?\n",
        "- Closing a file in Python ensures that data is properly written to disk, prevents data corruption, and frees system resources. Using file.close() or the with statement ensures files are closed automatically.\n",
        "\n",
        "20) What is the difference between file.read() and file.readline() in Python?\n",
        "- file.read() reads the entire file as a single string, while file.readline() reads only one line at a time. The latter is useful for processing files line by line without loading the entire content into memory.\n",
        "\n",
        "21) What is the logging module in Python used for?\n",
        "- The logging module is used for tracking events in a program, debugging, and maintaining logs. It provides different log levels (DEBUG, INFO, WARNING, ERROR, CRITICAL) and supports logging to files, consoles, or external systems.\n",
        "\n",
        "22) What is the os module in Python used for in file handling?\n",
        "- The os module provides functions for interacting with the operating system, such as creating, deleting, renaming, and checking file paths. It also allows working with directories using os.mkdir(), os.remove(), and os.listdir().\n",
        "\n",
        "23) What are the challenges associated with memory management in Python?\n",
        "- Python’s automatic memory management can lead to memory fragmentation, cyclic references, and higher memory usage due to dynamic typing. Managing large datasets efficiently and preventing memory leaks in long-running applications are common challenges.\n",
        "\n",
        "24) How do you raise an exception manually in Python?\n",
        "- An exception can be raised manually using the raise keyword. For example, raise ValueError(\"Invalid input\") explicitly triggers a ValueError, allowing custom error handling and control over program flow.\n",
        "\n",
        "25) Why is it important to use multithreading in certain applications?\n",
        "- Multithreading improves performance in I/O-bound tasks like web scraping, file handling, and network communication by allowing multiple operations to run concurrently. However, due to Python’s Global Interpreter Lock (GIL), it is not ideal for CPU-bound tasks.\n",
        "\n"
      ],
      "metadata": {
        "id": "WP3LXkcd8-LR"
      }
    },
    {
      "cell_type": "markdown",
      "source": [
        "##Practical Questions"
      ],
      "metadata": {
        "id": "K0uo7Lua-WVI"
      }
    },
    {
      "cell_type": "code",
      "source": [
        "#1) How can you open a file for writing in Python and write a string to it?\n",
        "with open(\"output.txt\", \"w\") as file:\n",
        "    file.write(\"Hello, this is a test file!\")"
      ],
      "metadata": {
        "id": "v1O_9Tbf85yT"
      },
      "execution_count": 1,
      "outputs": []
    },
    {
      "cell_type": "code",
      "source": [
        "#2) Write a Python program to read the contents of a file and print each line.\n",
        "with open(\"output.txt\", \"r\") as file:\n",
        "    for line in file:\n",
        "        print(line.strip())  # Removes extra spaces or newlines"
      ],
      "metadata": {
        "colab": {
          "base_uri": "https://localhost:8080/"
        },
        "id": "5gBPrHEp-0on",
        "outputId": "cb301cc5-4b46-4912-e21d-8e68891eee21"
      },
      "execution_count": 3,
      "outputs": [
        {
          "output_type": "stream",
          "name": "stdout",
          "text": [
            "Hello, this is a test file!\n"
          ]
        }
      ]
    },
    {
      "cell_type": "code",
      "source": [
        "#3) How would you handle a case where the file doesn't exist while trying to open it for reading?\n",
        "try:\n",
        "    with open(\"non_existent_file.txt\", \"r\") as file:\n",
        "        content = file.read()\n",
        "        print(content)\n",
        "except FileNotFoundError:\n",
        "    print(\"Error: The file does not exist.\")"
      ],
      "metadata": {
        "colab": {
          "base_uri": "https://localhost:8080/"
        },
        "id": "wICZaG5T_Hwd",
        "outputId": "f39a90ec-9d29-4604-f8a7-6e6cdfa9638d"
      },
      "execution_count": 4,
      "outputs": [
        {
          "output_type": "stream",
          "name": "stdout",
          "text": [
            "Error: The file does not exist.\n"
          ]
        }
      ]
    },
    {
      "cell_type": "code",
      "source": [
        "#4) Write a Python script that reads from one file and writes its content to another file.\n",
        "# Creating a sample source file\n",
        "with open(\"source.txt\", \"w\") as source:\n",
        "    source.write(\"This is the content of the source file.\")\n",
        "\n",
        "# Reading from source and writing to destination\n",
        "with open(\"source.txt\", \"r\") as src, open(\"destination.txt\", \"w\") as dest:\n",
        "    dest.write(src.read())"
      ],
      "metadata": {
        "id": "OyeWzhQz_TLL"
      },
      "execution_count": 6,
      "outputs": []
    },
    {
      "cell_type": "code",
      "source": [
        "#5) How would you catch and handle division by zero error in Python?\n",
        "try:\n",
        "    result = 10 / 0\n",
        "except ZeroDivisionError:\n",
        "    print(\"Error: Cannot divide by zero.\")"
      ],
      "metadata": {
        "colab": {
          "base_uri": "https://localhost:8080/"
        },
        "id": "a9BuQ7Z0_Z7K",
        "outputId": "01159420-a9dc-41d5-8b6c-c8851202939f"
      },
      "execution_count": 7,
      "outputs": [
        {
          "output_type": "stream",
          "name": "stdout",
          "text": [
            "Error: Cannot divide by zero.\n"
          ]
        }
      ]
    },
    {
      "cell_type": "code",
      "source": [
        "#6) Write a Python program that logs an error message to a log file when a division by zero exception occurs.\n",
        "import logging\n",
        "\n",
        "logging.basicConfig(filename=\"error.log\", level=logging.ERROR)\n",
        "\n",
        "try:\n",
        "    result = 10 / 0\n",
        "except ZeroDivisionError:\n",
        "    logging.error(\"Attempted to divide by zero.\")"
      ],
      "metadata": {
        "colab": {
          "base_uri": "https://localhost:8080/"
        },
        "id": "22LkHPA9AFX0",
        "outputId": "56c73cbd-f406-4bcb-89fb-b618647e501e"
      },
      "execution_count": 8,
      "outputs": [
        {
          "output_type": "stream",
          "name": "stderr",
          "text": [
            "ERROR:root:Attempted to divide by zero.\n"
          ]
        }
      ]
    },
    {
      "cell_type": "code",
      "source": [
        "#7) How do you log information at different levels (INFO, ERROR, WARNING) in Python using the logging module?\n",
        "import logging\n",
        "\n",
        "logging.basicConfig(level=logging.DEBUG)\n",
        "\n",
        "logging.debug(\"Debug message\")\n",
        "logging.info(\"Info message\")\n",
        "logging.warning(\"Warning message\")\n",
        "logging.error(\"Error message\")\n",
        "logging.critical(\"Critical message\")"
      ],
      "metadata": {
        "colab": {
          "base_uri": "https://localhost:8080/"
        },
        "id": "cnh2bM5tAKK2",
        "outputId": "b1313693-bc6c-4f44-c858-c87d20c9427f"
      },
      "execution_count": 9,
      "outputs": [
        {
          "output_type": "stream",
          "name": "stderr",
          "text": [
            "WARNING:root:Warning message\n",
            "ERROR:root:Error message\n",
            "CRITICAL:root:Critical message\n"
          ]
        }
      ]
    },
    {
      "cell_type": "code",
      "source": [
        "#8) Write a program to handle a file opening error using exception handling.\n",
        "try:\n",
        "    with open(\"non_existent.txt\", \"r\") as file:\n",
        "        content = file.read()\n",
        "except FileNotFoundError:\n",
        "    print(\"Error: File not found.\")"
      ],
      "metadata": {
        "colab": {
          "base_uri": "https://localhost:8080/"
        },
        "id": "Muh3q_9CAPAX",
        "outputId": "6277ebd1-b853-48bf-904b-954c3d3a4d88"
      },
      "execution_count": 10,
      "outputs": [
        {
          "output_type": "stream",
          "name": "stdout",
          "text": [
            "Error: File not found.\n"
          ]
        }
      ]
    },
    {
      "cell_type": "code",
      "source": [
        "#9) How can you read a file line by line and store its content in a list in Python?\n",
        "# Ensure file exists\n",
        "with open(\"input.txt\", \"w\") as file:\n",
        "    file.write(\"Line 1\\nLine 2\\nLine 3\")\n",
        "\n",
        "# Read lines into a list\n",
        "with open(\"input.txt\", \"r\") as file:\n",
        "    lines = [line.strip() for line in file]\n",
        "print(lines)"
      ],
      "metadata": {
        "colab": {
          "base_uri": "https://localhost:8080/"
        },
        "id": "J7Lqt6SzATrC",
        "outputId": "a5b9907a-c158-4764-b695-1bf1eb21b7ca"
      },
      "execution_count": 11,
      "outputs": [
        {
          "output_type": "stream",
          "name": "stdout",
          "text": [
            "['Line 1', 'Line 2', 'Line 3']\n"
          ]
        }
      ]
    },
    {
      "cell_type": "code",
      "source": [
        "#10) How can you append data to an existing file in Python?\n",
        "with open(\"output.txt\", \"a\") as file:\n",
        "    file.write(\"\\nNew line appended.\")"
      ],
      "metadata": {
        "id": "hUlf5L26AaKj"
      },
      "execution_count": 12,
      "outputs": []
    },
    {
      "cell_type": "code",
      "source": [
        "#11) Write a Python program that uses a try-except block to handle an error when attempting to access a dictionary key that doesn't exist.\n",
        "\n",
        "my_dict = {\"name\": \"Alice\", \"age\": 25}\n",
        "\n",
        "try:\n",
        "    print(my_dict[\"address\"])\n",
        "except KeyError:\n",
        "    print(\"Error: Key not found.\")"
      ],
      "metadata": {
        "colab": {
          "base_uri": "https://localhost:8080/"
        },
        "id": "W5muLuVqAgLn",
        "outputId": "a4d02f05-fca4-401b-d5f3-5b15899a8572"
      },
      "execution_count": 14,
      "outputs": [
        {
          "output_type": "stream",
          "name": "stdout",
          "text": [
            "Error: Key not found.\n"
          ]
        }
      ]
    },
    {
      "cell_type": "code",
      "source": [
        "#12) Write a program that demonstrates using multiple except blocks to handle different types of exceptions.\n",
        "\n",
        "try:\n",
        "    num = int(input(\"Enter a number: \"))\n",
        "    result = 10 / num\n",
        "except ValueError:\n",
        "    print(\"Error: Invalid input.\")\n",
        "except ZeroDivisionError:\n",
        "    print(\"Error: Cannot divide by zero.\")\n"
      ],
      "metadata": {
        "colab": {
          "base_uri": "https://localhost:8080/"
        },
        "id": "u_6M08lFBZP5",
        "outputId": "b735fd6f-8011-4f87-b282-63ce785e243a"
      },
      "execution_count": 16,
      "outputs": [
        {
          "output_type": "stream",
          "name": "stdout",
          "text": [
            "Enter a number: 0\n",
            "Error: Cannot divide by zero.\n"
          ]
        }
      ]
    },
    {
      "cell_type": "code",
      "source": [
        "#13) How would you check if a file exists before attempting to read it in Python?\n",
        "\n",
        "import os\n",
        "\n",
        "filename = \"input.txt\"\n",
        "\n",
        "if os.path.exists(filename):\n",
        "    with open(filename, \"r\") as file:\n",
        "        print(file.read())\n",
        "else:\n",
        "    print(f\"Error: '{filename}' does not exist.\")\n"
      ],
      "metadata": {
        "colab": {
          "base_uri": "https://localhost:8080/"
        },
        "id": "iug_JF6hBdPC",
        "outputId": "d00f5fb6-0505-46ab-e980-4e24b7279f14"
      },
      "execution_count": 17,
      "outputs": [
        {
          "output_type": "stream",
          "name": "stdout",
          "text": [
            "Line 1\n",
            "Line 2\n",
            "Line 3\n"
          ]
        }
      ]
    },
    {
      "cell_type": "code",
      "source": [
        "#14) Write a program that uses the logging module to log both informational and error messages.\n",
        "\n",
        "import logging\n",
        "\n",
        "logging.basicConfig(filename=\"app.log\", level=logging.INFO)\n",
        "\n",
        "try:\n",
        "    result = 10 / 0\n",
        "except ZeroDivisionError:\n",
        "    logging.error(\"Error: Division by zero\")\n",
        "else:\n",
        "    logging.info(\"Division successful\")\n"
      ],
      "metadata": {
        "colab": {
          "base_uri": "https://localhost:8080/"
        },
        "id": "MMKAP_cRBo6h",
        "outputId": "1b010985-21ee-4024-f94a-aa9d1ef6b6a5"
      },
      "execution_count": 18,
      "outputs": [
        {
          "output_type": "stream",
          "name": "stderr",
          "text": [
            "ERROR:root:Error: Division by zero\n"
          ]
        }
      ]
    },
    {
      "cell_type": "code",
      "source": [
        "#15) Write a Python program that prints the content of a file and handles the case when the file is empty.\n",
        "\n",
        "import os\n",
        "\n",
        "filename = \"empty.txt\"\n",
        "\n",
        "# Create an empty file\n",
        "with open(filename, \"w\") as file:\n",
        "    pass\n",
        "\n",
        "if os.path.exists(filename) and os.path.getsize(filename) > 0:\n",
        "    with open(filename, \"r\") as file:\n",
        "        print(file.read())\n",
        "else:\n",
        "    print(\"Error: File is empty.\")\n"
      ],
      "metadata": {
        "colab": {
          "base_uri": "https://localhost:8080/"
        },
        "id": "nNr-QsCNBrB1",
        "outputId": "50e3018d-39e6-49ee-c04b-20a94d16a0be"
      },
      "execution_count": 19,
      "outputs": [
        {
          "output_type": "stream",
          "name": "stdout",
          "text": [
            "Error: File is empty.\n"
          ]
        }
      ]
    },
    {
      "cell_type": "code",
      "source": [
        "!pip install memory-profiler\n"
      ],
      "metadata": {
        "colab": {
          "base_uri": "https://localhost:8080/"
        },
        "id": "UYRN1fhqBsw7",
        "outputId": "d6646bf6-9336-441f-d85a-ef361522aebe"
      },
      "execution_count": 31,
      "outputs": [
        {
          "output_type": "stream",
          "name": "stdout",
          "text": [
            "Requirement already satisfied: memory-profiler in /usr/local/lib/python3.11/dist-packages (0.61.0)\n",
            "Requirement already satisfied: psutil in /usr/local/lib/python3.11/dist-packages (from memory-profiler) (5.9.5)\n"
          ]
        }
      ]
    },
    {
      "cell_type": "code",
      "source": [
        "#16) Demonstrate how to use memory profiling to check the memory usage of a small program.\n",
        "\n",
        "%%writefile memory_test.py\n",
        "from memory_profiler import profile\n",
        "\n",
        "@profile\n",
        "def my_function():\n",
        "    lst = [i for i in range(100000)]  # Creating a large list\n",
        "    return sum(lst)\n",
        "\n",
        "if __name__ == \"__main__\":\n",
        "    my_function()\n"
      ],
      "metadata": {
        "colab": {
          "base_uri": "https://localhost:8080/"
        },
        "id": "uR1-odruBvP4",
        "outputId": "228571d2-37c9-437e-dfb9-62d30b2589fd"
      },
      "execution_count": 33,
      "outputs": [
        {
          "output_type": "stream",
          "name": "stdout",
          "text": [
            "Writing memory_test.py\n"
          ]
        }
      ]
    },
    {
      "cell_type": "code",
      "source": [
        "#17) Write a Python program to create and write a list of numbers to a file, one number per line.\n",
        "\n",
        "numbers = [1, 2, 3, 4, 5]\n",
        "\n",
        "with open(\"numbers.txt\", \"w\") as file:\n",
        "    for num in numbers:\n",
        "        file.write(str(num) + \"\\n\")\n"
      ],
      "metadata": {
        "id": "OuAj_7cNCrXN"
      },
      "execution_count": 36,
      "outputs": []
    },
    {
      "cell_type": "code",
      "source": [
        "#18) How would you implement a basic logging setup that logs to a file with rotation after 1MB?\n",
        "\n",
        "import logging\n",
        "from logging.handlers import RotatingFileHandler\n",
        "\n",
        "handler = RotatingFileHandler(\"app.log\", maxBytes=1048576, backupCount=3)\n",
        "logging.basicConfig(handlers=[handler], level=logging.INFO)\n",
        "\n",
        "logging.info(\"This is a log entry.\")\n"
      ],
      "metadata": {
        "id": "Ta8tESltE91G"
      },
      "execution_count": 37,
      "outputs": []
    },
    {
      "cell_type": "code",
      "source": [
        "#19) Write a program that handles both IndexError and KeyError using a try-except block.\n",
        "\n",
        "my_list = [1, 2, 3]\n",
        "my_dict = {\"a\": 10}\n",
        "\n",
        "try:\n",
        "    print(my_list[5])  # IndexError\n",
        "    print(my_dict[\"b\"])  # KeyError\n",
        "except IndexError:\n",
        "    print(\"Error: Index out of range.\")\n",
        "except KeyError:\n",
        "    print(\"Error: Key not found.\")\n"
      ],
      "metadata": {
        "colab": {
          "base_uri": "https://localhost:8080/"
        },
        "id": "TvQFVtLlFA6V",
        "outputId": "e2b1b89c-85e0-4263-f742-bde970d34ee8"
      },
      "execution_count": 38,
      "outputs": [
        {
          "output_type": "stream",
          "name": "stdout",
          "text": [
            "Error: Index out of range.\n"
          ]
        }
      ]
    },
    {
      "cell_type": "code",
      "source": [
        "#20) How would you open a file and read its contents using a context manager in Python?\n",
        "\n",
        "with open(\"input.txt\", \"w\") as file:\n",
        "    file.write(\"Sample text.\")\n",
        "\n",
        "with open(\"input.txt\", \"r\") as file:\n",
        "    content = file.read()\n",
        "    print(content)\n"
      ],
      "metadata": {
        "colab": {
          "base_uri": "https://localhost:8080/"
        },
        "id": "wuiV6u2wFFCx",
        "outputId": "ac0cc6e0-3ef2-48ab-c410-f2efcc8d1e2d"
      },
      "execution_count": 39,
      "outputs": [
        {
          "output_type": "stream",
          "name": "stdout",
          "text": [
            "Sample text.\n"
          ]
        }
      ]
    },
    {
      "cell_type": "code",
      "source": [
        "#21) Write a Python program that reads a file and prints the number of occurrences of a specific word.\n",
        "\n",
        "word_to_count = \"python\"\n",
        "\n",
        "with open(\"input.txt\", \"w\") as file:\n",
        "    file.write(\"Python is great. I love Python. Python is powerful.\")\n",
        "\n",
        "with open(\"input.txt\", \"r\") as file:\n",
        "    content = file.read().lower()\n",
        "    count = content.count(word_to_count.lower())\n",
        "\n",
        "print(f\"Occurrences of '{word_to_count}': {count}\")\n"
      ],
      "metadata": {
        "colab": {
          "base_uri": "https://localhost:8080/"
        },
        "id": "GLpcgTW8FHs-",
        "outputId": "1d0b8306-0cb3-4475-fe30-a55e0e642470"
      },
      "execution_count": 40,
      "outputs": [
        {
          "output_type": "stream",
          "name": "stdout",
          "text": [
            "Occurrences of 'python': 3\n"
          ]
        }
      ]
    },
    {
      "cell_type": "code",
      "source": [
        "#22) How can you check if a file is empty before attempting to read its contents?\n",
        "\n",
        "import os\n",
        "\n",
        "filename = \"input.txt\"\n",
        "\n",
        "if os.path.exists(filename) and os.path.getsize(filename) > 0:\n",
        "    with open(filename, \"r\") as file:\n",
        "        print(file.read())\n",
        "else:\n",
        "    print(\"Error: File is empty.\")\n"
      ],
      "metadata": {
        "colab": {
          "base_uri": "https://localhost:8080/"
        },
        "id": "XkR0BN57FJ6y",
        "outputId": "bcc81574-287e-49c4-8d0f-b70fcb3c1f97"
      },
      "execution_count": 41,
      "outputs": [
        {
          "output_type": "stream",
          "name": "stdout",
          "text": [
            "Python is great. I love Python. Python is powerful.\n"
          ]
        }
      ]
    },
    {
      "cell_type": "code",
      "source": [
        "#23) Write a Python program that writes to a log file when an error occurs during file handling.\n",
        "\n",
        "import logging\n",
        "\n",
        "logging.basicConfig(filename=\"file_errors.log\", level=logging.ERROR)\n",
        "\n",
        "try:\n",
        "    with open(\"non_existent.txt\", \"r\") as file:\n",
        "        content = file.read()\n",
        "except FileNotFoundError:\n",
        "    logging.error(\"Error: Attempted to open a non-existent file.\")\n"
      ],
      "metadata": {
        "colab": {
          "base_uri": "https://localhost:8080/"
        },
        "id": "FmHbjtaJFMQg",
        "outputId": "1599c163-4676-4cd6-e57d-e9839546fc12"
      },
      "execution_count": 42,
      "outputs": [
        {
          "output_type": "stream",
          "name": "stderr",
          "text": [
            "ERROR:root:Error: Attempted to open a non-existent file.\n"
          ]
        }
      ]
    }
  ]
}